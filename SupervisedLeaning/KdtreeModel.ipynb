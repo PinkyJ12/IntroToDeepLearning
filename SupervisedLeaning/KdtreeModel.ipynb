{
 "cells": [
  {
   "cell_type": "code",
   "execution_count": 7,
   "metadata": {
    "collapsed": true
   },
   "outputs": [],
   "source": [
    "import pandas as pd\n",
    "import numpy as np\n",
    "import nltk"
   ]
  },
  {
   "cell_type": "code",
   "execution_count": 2,
   "metadata": {
    "collapsed": true
   },
   "outputs": [],
   "source": [
    "df_people=pd.read_pickle('Articles')"
   ]
  },
  {
   "cell_type": "code",
   "execution_count": 6,
   "metadata": {},
   "outputs": [
    {
     "data": {
      "text/html": [
       "<div>\n",
       "<style scoped>\n",
       "    .dataframe tbody tr th:only-of-type {\n",
       "        vertical-align: middle;\n",
       "    }\n",
       "\n",
       "    .dataframe tbody tr th {\n",
       "        vertical-align: top;\n",
       "    }\n",
       "\n",
       "    .dataframe thead th {\n",
       "        text-align: right;\n",
       "    }\n",
       "</style>\n",
       "<table border=\"1\" class=\"dataframe\">\n",
       "  <thead>\n",
       "    <tr style=\"text-align: right;\">\n",
       "      <th></th>\n",
       "      <th>title</th>\n",
       "      <th>author</th>\n",
       "      <th>date</th>\n",
       "      <th>body</th>\n",
       "      <th>site</th>\n",
       "    </tr>\n",
       "  </thead>\n",
       "  <tbody>\n",
       "    <tr>\n",
       "      <th>55</th>\n",
       "      <td>The Plant-Powered Fitness Edge</td>\n",
       "      <td>Joshua Duvauchelle</td>\n",
       "      <td>February 1, 2017</td>\n",
       "      <td>From NFL superstars to Olympic gold medallists...</td>\n",
       "      <td>Alive_LifeStyle</td>\n",
       "    </tr>\n",
       "    <tr>\n",
       "      <th>56</th>\n",
       "      <td>A Story of Plant-Based Inspiration</td>\n",
       "      <td>Brendan Brazier</td>\n",
       "      <td>February 1, 2017</td>\n",
       "      <td>Brendan Brazier is a professional Ironman tria...</td>\n",
       "      <td>Alive_LifeStyle</td>\n",
       "    </tr>\n",
       "    <tr>\n",
       "      <th>57</th>\n",
       "      <td>Out to (Vegan) Lunch?</td>\n",
       "      <td>Damian Jakibchuk</td>\n",
       "      <td>February 1, 2017</td>\n",
       "      <td>In 2015, an inexperienced cyclist decided to c...</td>\n",
       "      <td>Alive_LifeStyle</td>\n",
       "    </tr>\n",
       "    <tr>\n",
       "      <th>58</th>\n",
       "      <td>Vegan Beauty – additional resources</td>\n",
       "      <td>Leah Payne</td>\n",
       "      <td>January 30, 2017</td>\n",
       "      <td>For online shopping, resources, news, and shop...</td>\n",
       "      <td>Alive_LifeStyle</td>\n",
       "    </tr>\n",
       "    <tr>\n",
       "      <th>59</th>\n",
       "      <td>Try Something New!</td>\n",
       "      <td>Nikki Bayley</td>\n",
       "      <td>Nov 2, 2017</td>\n",
       "      <td>A New Year brings the opportunity to say yes t...</td>\n",
       "      <td>Alive_LifeStyle</td>\n",
       "    </tr>\n",
       "    <tr>\n",
       "      <th>60</th>\n",
       "      <td>Embrace the Danish Art of Hygge</td>\n",
       "      <td>Amy Green</td>\n",
       "      <td>Jan 18, 2017</td>\n",
       "      <td>Want to stay cozy and happy this winter (inste...</td>\n",
       "      <td>Alive_LifeStyle</td>\n",
       "    </tr>\n",
       "    <tr>\n",
       "      <th>61</th>\n",
       "      <td>Winter Gear Roundup</td>\n",
       "      <td>alive Editorial</td>\n",
       "      <td>Jan 18, 2017</td>\n",
       "      <td>What comes before the cool winter adventure? P...</td>\n",
       "      <td>Alive_LifeStyle</td>\n",
       "    </tr>\n",
       "    <tr>\n",
       "      <th>62</th>\n",
       "      <td>Your Next Great Winter Adventure</td>\n",
       "      <td>Nikki Bayley</td>\n",
       "      <td>Jan 18, 2017</td>\n",
       "      <td>Your Canadian winter adventure could come in m...</td>\n",
       "      <td>Alive_LifeStyle</td>\n",
       "    </tr>\n",
       "    <tr>\n",
       "      <th>63</th>\n",
       "      <td>Freedom Awaits</td>\n",
       "      <td>Joshua Duvauchelle</td>\n",
       "      <td>Jan 18, 2017</td>\n",
       "      <td>“How many lessons of faith and beauty we shoul...</td>\n",
       "      <td>Alive_LifeStyle</td>\n",
       "    </tr>\n",
       "    <tr>\n",
       "      <th>64</th>\n",
       "      <td>Your Next Winter Adventure – additional resources</td>\n",
       "      <td>Nikki Bayley</td>\n",
       "      <td>October 24, 2016</td>\n",
       "      <td></td>\n",
       "      <td>Alive_LifeStyle</td>\n",
       "    </tr>\n",
       "    <tr>\n",
       "      <th>65</th>\n",
       "      <td>3 Tricks to Stop Time From Flying By</td>\n",
       "      <td>Colleen Grant</td>\n",
       "      <td>Jan 18, 2017</td>\n",
       "      <td>How is it [insert current month] already? If y...</td>\n",
       "      <td>Alive_LifeStyle</td>\n",
       "    </tr>\n",
       "    <tr>\n",
       "      <th>66</th>\n",
       "      <td>alive Awards 2016 Winners</td>\n",
       "      <td>alive Editorial</td>\n",
       "      <td>Oct 27, 2016</td>\n",
       "      <td>back to top ↑       back to top ↑      ...</td>\n",
       "      <td>Alive_LifeStyle</td>\n",
       "    </tr>\n",
       "    <tr>\n",
       "      <th>67</th>\n",
       "      <td>Age-Defying Athletes</td>\n",
       "      <td>Joshua Duvauchelle</td>\n",
       "      <td>Jan 18, 2017</td>\n",
       "      <td>These fitness enthusiasts in their 40s to 70s ...</td>\n",
       "      <td>Alive_LifeStyle</td>\n",
       "    </tr>\n",
       "    <tr>\n",
       "      <th>68</th>\n",
       "      <td>Stock Options</td>\n",
       "      <td>Matthew Kadey, MSc, RD</td>\n",
       "      <td>October 1, 2016</td>\n",
       "      <td>Cooking from scratch has been garnering a lot ...</td>\n",
       "      <td>Alive_LifeStyle</td>\n",
       "    </tr>\n",
       "    <tr>\n",
       "      <th>69</th>\n",
       "      <td>Understanding Therapy</td>\n",
       "      <td>Amy Green</td>\n",
       "      <td>Jan 18, 2017</td>\n",
       "      <td>Do you know the difference between a therapist...</td>\n",
       "      <td>Alive_LifeStyle</td>\n",
       "    </tr>\n",
       "    <tr>\n",
       "      <th>70</th>\n",
       "      <td>Second Time Around</td>\n",
       "      <td>Amy Mair</td>\n",
       "      <td>Jan 18, 2017</td>\n",
       "      <td>Adaptive reuse is a creative concept in the ar...</td>\n",
       "      <td>Alive_LifeStyle</td>\n",
       "    </tr>\n",
       "    <tr>\n",
       "      <th>71</th>\n",
       "      <td>Nourishing Honey Face Mask</td>\n",
       "      <td>Diana Tidswell</td>\n",
       "      <td>Oct 19, 2016</td>\n",
       "      <td>If you’re looking for the best in nourishing s...</td>\n",
       "      <td>Alive_LifeStyle</td>\n",
       "    </tr>\n",
       "    <tr>\n",
       "      <th>72</th>\n",
       "      <td>9 Ways to Save on Food – Additional Resources</td>\n",
       "      <td>alive Editorial</td>\n",
       "      <td>Oct 3, 2016</td>\n",
       "      <td>For more information, check out these addition...</td>\n",
       "      <td>Alive_LifeStyle</td>\n",
       "    </tr>\n",
       "    <tr>\n",
       "      <th>73</th>\n",
       "      <td>Ask the Experts</td>\n",
       "      <td>Theresa Jahn</td>\n",
       "      <td>September 20, 2016</td>\n",
       "      <td>A: Omega-3 fats are an essential nutrient, mea...</td>\n",
       "      <td>Alive_LifeStyle</td>\n",
       "    </tr>\n",
       "    <tr>\n",
       "      <th>74</th>\n",
       "      <td>A Mindful Village – additional resources</td>\n",
       "      <td>Leslie Brownbridge, MA</td>\n",
       "      <td>Sep 20, 2016</td>\n",
       "      <td>For more information on mindfulness techniques...</td>\n",
       "      <td>Alive_LifeStyle</td>\n",
       "    </tr>\n",
       "  </tbody>\n",
       "</table>\n",
       "</div>"
      ],
      "text/plain": [
       "                                                title                  author  \\\n",
       "55                     The Plant-Powered Fitness Edge      Joshua Duvauchelle   \n",
       "56                 A Story of Plant-Based Inspiration         Brendan Brazier   \n",
       "57                              Out to (Vegan) Lunch?        Damian Jakibchuk   \n",
       "58                Vegan Beauty – additional resources              Leah Payne   \n",
       "59                                 Try Something New!            Nikki Bayley   \n",
       "60                    Embrace the Danish Art of Hygge               Amy Green   \n",
       "61                                Winter Gear Roundup         alive Editorial   \n",
       "62                   Your Next Great Winter Adventure            Nikki Bayley   \n",
       "63                                     Freedom Awaits      Joshua Duvauchelle   \n",
       "64  Your Next Winter Adventure – additional resources            Nikki Bayley   \n",
       "65               3 Tricks to Stop Time From Flying By           Colleen Grant   \n",
       "66                          alive Awards 2016 Winners         alive Editorial   \n",
       "67                               Age-Defying Athletes      Joshua Duvauchelle   \n",
       "68                                      Stock Options  Matthew Kadey, MSc, RD   \n",
       "69                              Understanding Therapy               Amy Green   \n",
       "70                                 Second Time Around                Amy Mair   \n",
       "71                         Nourishing Honey Face Mask          Diana Tidswell   \n",
       "72      9 Ways to Save on Food – Additional Resources         alive Editorial   \n",
       "73                                    Ask the Experts            Theresa Jahn   \n",
       "74           A Mindful Village – additional resources  Leslie Brownbridge, MA   \n",
       "\n",
       "                  date                                               body  \\\n",
       "55    February 1, 2017  From NFL superstars to Olympic gold medallists...   \n",
       "56    February 1, 2017  Brendan Brazier is a professional Ironman tria...   \n",
       "57    February 1, 2017  In 2015, an inexperienced cyclist decided to c...   \n",
       "58    January 30, 2017  For online shopping, resources, news, and shop...   \n",
       "59         Nov 2, 2017  A New Year brings the opportunity to say yes t...   \n",
       "60        Jan 18, 2017  Want to stay cozy and happy this winter (inste...   \n",
       "61        Jan 18, 2017  What comes before the cool winter adventure? P...   \n",
       "62        Jan 18, 2017  Your Canadian winter adventure could come in m...   \n",
       "63        Jan 18, 2017  “How many lessons of faith and beauty we shoul...   \n",
       "64    October 24, 2016                                                      \n",
       "65        Jan 18, 2017  How is it [insert current month] already? If y...   \n",
       "66        Oct 27, 2016         back to top ↑       back to top ↑      ...   \n",
       "67        Jan 18, 2017  These fitness enthusiasts in their 40s to 70s ...   \n",
       "68     October 1, 2016  Cooking from scratch has been garnering a lot ...   \n",
       "69        Jan 18, 2017  Do you know the difference between a therapist...   \n",
       "70        Jan 18, 2017  Adaptive reuse is a creative concept in the ar...   \n",
       "71        Oct 19, 2016  If you’re looking for the best in nourishing s...   \n",
       "72         Oct 3, 2016  For more information, check out these addition...   \n",
       "73  September 20, 2016  A: Omega-3 fats are an essential nutrient, mea...   \n",
       "74        Sep 20, 2016  For more information on mindfulness techniques...   \n",
       "\n",
       "               site  \n",
       "55  Alive_LifeStyle  \n",
       "56  Alive_LifeStyle  \n",
       "57  Alive_LifeStyle  \n",
       "58  Alive_LifeStyle  \n",
       "59  Alive_LifeStyle  \n",
       "60  Alive_LifeStyle  \n",
       "61  Alive_LifeStyle  \n",
       "62  Alive_LifeStyle  \n",
       "63  Alive_LifeStyle  \n",
       "64  Alive_LifeStyle  \n",
       "65  Alive_LifeStyle  \n",
       "66  Alive_LifeStyle  \n",
       "67  Alive_LifeStyle  \n",
       "68  Alive_LifeStyle  \n",
       "69  Alive_LifeStyle  \n",
       "70  Alive_LifeStyle  \n",
       "71  Alive_LifeStyle  \n",
       "72  Alive_LifeStyle  \n",
       "73  Alive_LifeStyle  \n",
       "74  Alive_LifeStyle  "
      ]
     },
     "execution_count": 6,
     "metadata": {},
     "output_type": "execute_result"
    }
   ],
   "source": [
    "df_people.tail(20)"
   ]
  },
  {
   "cell_type": "code",
   "execution_count": 15,
   "metadata": {},
   "outputs": [],
   "source": [
    "#Using countvectoriser to count the freq of occurence of each word\n",
    "\n",
    "from sklearn.feature_extraction.text import CountVectorizer\n",
    "\n",
    "count_vect = CountVectorizer()\n",
    "\n",
    "X_train_counts = count_vect.fit_transform(df_people['body'])"
   ]
  },
  {
   "cell_type": "code",
   "execution_count": 20,
   "metadata": {},
   "outputs": [
    {
     "data": {
      "text/plain": [
       "<75x9188 sparse matrix of type '<class 'numpy.int64'>'\n",
       "\twith 30112 stored elements in Compressed Sparse Row format>"
      ]
     },
     "execution_count": 20,
     "metadata": {},
     "output_type": "execute_result"
    }
   ],
   "source": [
    "X_train_counts"
   ]
  },
  {
   "cell_type": "code",
   "execution_count": 18,
   "metadata": {
    "collapsed": true
   },
   "outputs": [],
   "source": [
    "#Using tf-idf to reduce the effect of common words\n",
    "\n",
    "from sklearn.feature_extraction.text import TfidfTransformer\n",
    "tfidf_transformer = TfidfTransformer()\n",
    "X_train_tfidf = tfidf_transformer.fit_transform(X_train_counts)"
   ]
  },
  {
   "cell_type": "code",
   "execution_count": 19,
   "metadata": {},
   "outputs": [
    {
     "data": {
      "text/plain": [
       "<75x9188 sparse matrix of type '<class 'numpy.float64'>'\n",
       "\twith 30112 stored elements in Compressed Sparse Row format>"
      ]
     },
     "execution_count": 19,
     "metadata": {},
     "output_type": "execute_result"
    }
   ],
   "source": [
    "X_train_tfidf"
   ]
  },
  {
   "cell_type": "code",
   "execution_count": 22,
   "metadata": {},
   "outputs": [],
   "source": [
    "#Using tfidf as a feature\n",
    "\n",
    "df_people['tfidf']=list(X_train_tfidf.toarray())"
   ]
  },
  {
   "cell_type": "code",
   "execution_count": 24,
   "metadata": {},
   "outputs": [
    {
     "data": {
      "text/plain": [
       "0    [0.0, 0.0, 0.0, 0.0, 0.0, 0.0, 0.0, 0.0, 0.0, ...\n",
       "1    [0.028569905926776464, 0.0, 0.0146195366820705...\n",
       "2    [0.0, 0.0, 0.0, 0.0, 0.0, 0.0, 0.0, 0.0, 0.0, ...\n",
       "3    [0.028386727625238885, 0.0, 0.0290516046405441...\n",
       "4    [0.0, 0.0, 0.0233812531946051, 0.0, 0.0, 0.034...\n",
       "Name: tfidf, dtype: object"
      ]
     },
     "execution_count": 24,
     "metadata": {},
     "output_type": "execute_result"
    }
   ],
   "source": [
    "df_people['tfidf'].head()"
   ]
  },
  {
   "cell_type": "code",
   "execution_count": 30,
   "metadata": {},
   "outputs": [],
   "source": [
    "#Importing KDTree\n",
    "from sklearn.neighbors import KDTree\n",
    "kdt = KDTree(df_people['tfidf'].tolist(), leaf_size=3)"
   ]
  },
  {
   "cell_type": "code",
   "execution_count": 33,
   "metadata": {},
   "outputs": [
    {
     "ename": "ValueError",
     "evalue": "Expected 2D array, got 1D array instead:\narray=[].\nReshape your data either using array.reshape(-1, 1) if your data has a single feature or array.reshape(1, -1) if it contains a single sample.",
     "output_type": "error",
     "traceback": [
      "\u001b[0;31m---------------------------------------------------------------------------\u001b[0m",
      "\u001b[0;31mValueError\u001b[0m                                Traceback (most recent call last)",
      "\u001b[0;32m<ipython-input-33-7a376a446600>\u001b[0m in \u001b[0;36m<module>\u001b[0;34m()\u001b[0m\n\u001b[1;32m      1\u001b[0m \u001b[0;31m#Using KDTree to find 3 similar aticles\u001b[0m\u001b[0;34m\u001b[0m\u001b[0;34m\u001b[0m\u001b[0m\n\u001b[1;32m      2\u001b[0m \u001b[0;34m\u001b[0m\u001b[0m\n\u001b[0;32m----> 3\u001b[0;31m \u001b[0mdist\u001b[0m\u001b[0;34m,\u001b[0m \u001b[0midx\u001b[0m \u001b[0;34m=\u001b[0m \u001b[0mkdt\u001b[0m\u001b[0;34m.\u001b[0m\u001b[0mquery\u001b[0m\u001b[0;34m(\u001b[0m\u001b[0mdf_people\u001b[0m\u001b[0;34m[\u001b[0m\u001b[0;34m'tfidf'\u001b[0m\u001b[0;34m]\u001b[0m\u001b[0;34m[\u001b[0m\u001b[0mdf_people\u001b[0m\u001b[0;34m[\u001b[0m\u001b[0;34m'body'\u001b[0m\u001b[0;34m]\u001b[0m\u001b[0;34m==\u001b[0m\u001b[0;34m'health'\u001b[0m\u001b[0;34m]\u001b[0m\u001b[0;34m.\u001b[0m\u001b[0mtolist\u001b[0m\u001b[0;34m(\u001b[0m\u001b[0;34m)\u001b[0m\u001b[0;34m,\u001b[0m \u001b[0mk\u001b[0m\u001b[0;34m=\u001b[0m\u001b[0;36m3\u001b[0m\u001b[0;34m)\u001b[0m\u001b[0;34m\u001b[0m\u001b[0m\n\u001b[0m",
      "\u001b[0;32msklearn/neighbors/binary_tree.pxi\u001b[0m in \u001b[0;36msklearn.neighbors.kd_tree.BinaryTree.query\u001b[0;34m()\u001b[0m\n",
      "\u001b[0;32m~/anaconda3/lib/python3.6/site-packages/sklearn/utils/validation.py\u001b[0m in \u001b[0;36mcheck_array\u001b[0;34m(array, accept_sparse, dtype, order, copy, force_all_finite, ensure_2d, allow_nd, ensure_min_samples, ensure_min_features, warn_on_dtype, estimator)\u001b[0m\n\u001b[1;32m    439\u001b[0m                     \u001b[0;34m\"Reshape your data either using array.reshape(-1, 1) if \"\u001b[0m\u001b[0;34m\u001b[0m\u001b[0m\n\u001b[1;32m    440\u001b[0m                     \u001b[0;34m\"your data has a single feature or array.reshape(1, -1) \"\u001b[0m\u001b[0;34m\u001b[0m\u001b[0m\n\u001b[0;32m--> 441\u001b[0;31m                     \"if it contains a single sample.\".format(array))\n\u001b[0m\u001b[1;32m    442\u001b[0m             \u001b[0marray\u001b[0m \u001b[0;34m=\u001b[0m \u001b[0mnp\u001b[0m\u001b[0;34m.\u001b[0m\u001b[0matleast_2d\u001b[0m\u001b[0;34m(\u001b[0m\u001b[0marray\u001b[0m\u001b[0;34m)\u001b[0m\u001b[0;34m\u001b[0m\u001b[0m\n\u001b[1;32m    443\u001b[0m             \u001b[0;31m# To ensure that array flags are maintained\u001b[0m\u001b[0;34m\u001b[0m\u001b[0;34m\u001b[0m\u001b[0m\n",
      "\u001b[0;31mValueError\u001b[0m: Expected 2D array, got 1D array instead:\narray=[].\nReshape your data either using array.reshape(-1, 1) if your data has a single feature or array.reshape(1, -1) if it contains a single sample."
     ]
    }
   ],
   "source": [
    "#Using KDTree to find 3 similar aticles\n",
    "\n",
    "dist, idx = kdt.query(df_people['tfidf'][df_people['body']=='health'].tolist(), k=3)"
   ]
  },
  {
   "cell_type": "code",
   "execution_count": null,
   "metadata": {
    "collapsed": true
   },
   "outputs": [],
   "source": [
    "In [10]:\n",
    "\n",
    "#Indices of 3 nearest articles\n",
    "\n",
    "idx[0]\n",
    "\n",
    "\n",
    "\n",
    "Out[10]:\n",
    "\n",
    "array([  32,    0, 1177])\n",
    "\n",
    "\n",
    "\n",
    "In [11]:\n",
    "\n",
    "#Nearest neighbour 1\n",
    "\n",
    "people['name'][32]\n",
    "\n",
    "\n",
    "\n",
    "Out[11]:\n",
    "\n",
    "'Barack Obama'\n",
    "\n",
    "\n",
    "\n",
    "In [12]:\n",
    "\n",
    "#Nearest neighbour 2\n",
    "\n",
    "people['name'][0]\n",
    "\n",
    "\n",
    "\n",
    "Out[12]:\n",
    "\n",
    "'Bill Clinton'\n",
    "\n",
    "\n",
    "\n",
    "In [13]:\n",
    "\n",
    "#Nearest neighbour 3\n",
    "\n",
    "people['name'][1177]\n",
    "\n",
    "\n",
    "\n",
    "Out[13]:\n",
    "\n",
    "'Donald Fowler'"
   ]
  }
 ],
 "metadata": {
  "kernelspec": {
   "display_name": "Python 3",
   "language": "python",
   "name": "python3"
  },
  "language_info": {
   "codemirror_mode": {
    "name": "ipython",
    "version": 3
   },
   "file_extension": ".py",
   "mimetype": "text/x-python",
   "name": "python",
   "nbconvert_exporter": "python",
   "pygments_lexer": "ipython3",
   "version": "3.6.3"
  }
 },
 "nbformat": 4,
 "nbformat_minor": 2
}
